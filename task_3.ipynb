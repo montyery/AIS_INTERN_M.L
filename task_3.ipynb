{
 "cells": [
  {
   "cell_type": "markdown",
   "id": "a9909d5f-1c5f-4ba7-9ab3-068501fae782",
   "metadata": {},
   "source": [
    "# lists in python \n"
   ]
  },
  {
   "cell_type": "markdown",
   "id": "af8bcfc8-c48b-4d39-a025-131ea3457998",
   "metadata": {},
   "source": [
    "# accessing list"
   ]
  },
  {
   "cell_type": "code",
   "execution_count": null,
   "id": "6b682602-7333-4f9d-a791-81157c5f7a75",
   "metadata": {},
   "outputs": [],
   "source": [
    "states_of_India=[\"Maharashtra\",\"AP\",\"UP\",\"Jammu\",\"Punjab\"]\n",
    "print(states_of_India) # accessing list\n",
    "print(states_of_India[1]) # accessing single elements of list\n",
    "states_of_India[1]=\"goa\" # changing index val of a llist\n",
    "print(states_of_India)\n"
   ]
  },
  {
   "cell_type": "markdown",
   "id": "255c67b1-ba0e-4d46-a987-55eee18ced90",
   "metadata": {},
   "source": [
    "#adding to list"
   ]
  },
  {
   "cell_type": "code",
   "execution_count": null,
   "id": "5b071484-8449-47ba-a547-e8a0dcfb6d5a",
   "metadata": {},
   "outputs": [],
   "source": [
    "states_of_India=[\"Maharashtra\",\"AP\",\"UP\",\"Jammu\",\"Punjab\"]\n",
    "\n",
    "#adding to list\n",
    "states_of_India.append(\"bihar\")\n",
    "print(states_of_India)"
   ]
  },
  {
   "cell_type": "markdown",
   "id": "ce85e11e-c24b-48a7-b9bb-0dbc7c93c93a",
   "metadata": {},
   "source": [
    "#removing element"
   ]
  },
  {
   "cell_type": "code",
   "execution_count": null,
   "id": "f04760b4-4b9b-4120-8fb2-0317ff81d436",
   "metadata": {},
   "outputs": [],
   "source": [
    "states_of_India=[\"Maharashtra\",\"AP\",\"UP\",\"Jammu\",\"Punjab\"]\n",
    "#removing element\n",
    "states_of_India.remove(\"goa\")\n",
    "print(states_of_India)\n",
    "states_of_India.pop(0)\n",
    "print(states_of_India)\n"
   ]
  },
  {
   "cell_type": "markdown",
   "id": "2c42ef99-830d-40b8-96db-070938aca00a",
   "metadata": {},
   "source": [
    "# reverse list"
   ]
  },
  {
   "cell_type": "code",
   "execution_count": null,
   "id": "0f22d826-2b77-4785-85d0-58cfc6bf80ee",
   "metadata": {},
   "outputs": [],
   "source": [
    "states_of_India=[\"Maharashtra\",\"AP\",\"UP\",\"Jammu\",\"Punjab\"]\n",
    "# reverse list\n",
    "states_of_India.reverse()\n",
    "print(states_of_India)"
   ]
  }
 ],
 "metadata": {
  "kernelspec": {
   "display_name": "Python 3 (ipykernel)",
   "language": "python",
   "name": "python3"
  },
  "language_info": {
   "codemirror_mode": {
    "name": "ipython",
    "version": 3
   },
   "file_extension": ".py",
   "mimetype": "text/x-python",
   "name": "python",
   "nbconvert_exporter": "python",
   "pygments_lexer": "ipython3",
   "version": "3.12.7"
  }
 },
 "nbformat": 4,
 "nbformat_minor": 5
}
